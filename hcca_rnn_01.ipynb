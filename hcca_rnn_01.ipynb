{
  "nbformat": 4,
  "nbformat_minor": 0,
  "metadata": {
    "colab": {
      "name": "Untitled0.ipynb",
      "provenance": [],
      "collapsed_sections": [],
      "authorship_tag": "ABX9TyOyvFwmWZ0enyNS6ZAlZQe3",
      "include_colab_link": true
    },
    "kernelspec": {
      "name": "python3",
      "display_name": "Python 3"
    },
    "language_info": {
      "name": "python"
    }
  },
  "cells": [
    {
      "cell_type": "markdown",
      "metadata": {
        "id": "view-in-github",
        "colab_type": "text"
      },
      "source": [
        "<a href=\"https://colab.research.google.com/github/hiramaral/redesneurais/blob/main/hcca_rnn_01.ipynb\" target=\"_parent\"><img src=\"https://colab.research.google.com/assets/colab-badge.svg\" alt=\"Open In Colab\"/></a>"
      ]
    },
    {
      "cell_type": "markdown",
      "source": [
        "Importando as bibliotecas necessárias"
      ],
      "metadata": {
        "id": "JUAIWwKUrPBW"
      }
    },
    {
      "cell_type": "code",
      "execution_count": 35,
      "metadata": {
        "id": "5RH63frbjynd"
      },
      "outputs": [],
      "source": [
        "from sklearn import datasets\n",
        "import pandas as pd\n",
        "import matplotlib.pyplot as plt"
      ]
    },
    {
      "cell_type": "markdown",
      "source": [
        "Biblioteca mlxtend\n",
        "\n",
        "[mlxtend](http://rasbt.github.io/mlxtend/)"
      ],
      "metadata": {
        "id": "WfZUaGKJsxMp"
      }
    },
    {
      "cell_type": "code",
      "source": [
        "!pip install mlxtend"
      ],
      "metadata": {
        "colab": {
          "base_uri": "https://localhost:8080/"
        },
        "id": "2hkdPl-7tQd2",
        "outputId": "c7935c23-1115-4ee4-cf21-3f0d56e8ef2f"
      },
      "execution_count": 36,
      "outputs": [
        {
          "output_type": "stream",
          "name": "stdout",
          "text": [
            "Requirement already satisfied: mlxtend in /usr/local/lib/python3.7/dist-packages (0.14.0)\n",
            "Requirement already satisfied: scikit-learn>=0.18 in /usr/local/lib/python3.7/dist-packages (from mlxtend) (1.0.1)\n",
            "Requirement already satisfied: matplotlib>=1.5.1 in /usr/local/lib/python3.7/dist-packages (from mlxtend) (3.2.2)\n",
            "Requirement already satisfied: setuptools in /usr/local/lib/python3.7/dist-packages (from mlxtend) (57.4.0)\n",
            "Requirement already satisfied: numpy>=1.10.4 in /usr/local/lib/python3.7/dist-packages (from mlxtend) (1.19.5)\n",
            "Requirement already satisfied: pandas>=0.17.1 in /usr/local/lib/python3.7/dist-packages (from mlxtend) (1.1.5)\n",
            "Requirement already satisfied: scipy>=0.17 in /usr/local/lib/python3.7/dist-packages (from mlxtend) (1.4.1)\n",
            "Requirement already satisfied: python-dateutil>=2.1 in /usr/local/lib/python3.7/dist-packages (from matplotlib>=1.5.1->mlxtend) (2.8.2)\n",
            "Requirement already satisfied: pyparsing!=2.0.4,!=2.1.2,!=2.1.6,>=2.0.1 in /usr/local/lib/python3.7/dist-packages (from matplotlib>=1.5.1->mlxtend) (3.0.6)\n",
            "Requirement already satisfied: cycler>=0.10 in /usr/local/lib/python3.7/dist-packages (from matplotlib>=1.5.1->mlxtend) (0.11.0)\n",
            "Requirement already satisfied: kiwisolver>=1.0.1 in /usr/local/lib/python3.7/dist-packages (from matplotlib>=1.5.1->mlxtend) (1.3.2)\n",
            "Requirement already satisfied: pytz>=2017.2 in /usr/local/lib/python3.7/dist-packages (from pandas>=0.17.1->mlxtend) (2018.9)\n",
            "Requirement already satisfied: six>=1.5 in /usr/local/lib/python3.7/dist-packages (from python-dateutil>=2.1->matplotlib>=1.5.1->mlxtend) (1.15.0)\n",
            "Requirement already satisfied: threadpoolctl>=2.0.0 in /usr/local/lib/python3.7/dist-packages (from scikit-learn>=0.18->mlxtend) (3.0.0)\n",
            "Requirement already satisfied: joblib>=0.11 in /usr/local/lib/python3.7/dist-packages (from scikit-learn>=0.18->mlxtend) (1.1.0)\n"
          ]
        }
      ]
    },
    {
      "cell_type": "code",
      "source": [
        "from mlxtend.plotting import plot_decision_regions"
      ],
      "metadata": {
        "id": "mw1J6jZmtg0j"
      },
      "execution_count": 37,
      "outputs": []
    },
    {
      "cell_type": "markdown",
      "source": [
        "Base de dados - \n",
        "\n",
        "[Wine](https://archive.ics.uci.edu/ml/datasets/wine)\n",
        "\n",
        "[scikit-learn](https://archive.ics.uci.edu/ml/datasets/wine)"
      ],
      "metadata": {
        "id": "Hv2HbKsCtuGe"
      }
    },
    {
      "cell_type": "markdown",
      "source": [
        "Carregando base de dados"
      ],
      "metadata": {
        "id": "JWYW6uyBvQnM"
      }
    },
    {
      "cell_type": "code",
      "source": [
        "wine = datasets.load_wine()"
      ],
      "metadata": {
        "id": "z-MZVfYTvS0T"
      },
      "execution_count": 38,
      "outputs": []
    },
    {
      "cell_type": "markdown",
      "source": [
        "Criando o Dataframe"
      ],
      "metadata": {
        "id": "vTGeyiCOvcsT"
      }
    },
    {
      "cell_type": "code",
      "source": [
        "df_wine = pd.DataFrame(data=wine.data,columns=wine.feature_names)"
      ],
      "metadata": {
        "id": "VBo9cBXmvizm"
      },
      "execution_count": 39,
      "outputs": []
    },
    {
      "cell_type": "code",
      "source": [
        "df_wine['class'] = wine.target"
      ],
      "metadata": {
        "id": "LpAR1BQ7vlW3"
      },
      "execution_count": 40,
      "outputs": []
    },
    {
      "cell_type": "markdown",
      "source": [
        "Verificando os dados"
      ],
      "metadata": {
        "id": "p6PX4zkRvqTx"
      }
    },
    {
      "cell_type": "code",
      "source": [
        "df_wine.head()"
      ],
      "metadata": {
        "colab": {
          "base_uri": "https://localhost:8080/",
          "height": 270
        },
        "id": "GVfWyKFdvt8e",
        "outputId": "9a1f407a-45a1-4925-d0b6-102630ab0603"
      },
      "execution_count": 41,
      "outputs": [
        {
          "output_type": "execute_result",
          "data": {
            "text/html": [
              "\n",
              "  <div id=\"df-3ab3e59a-0eb4-4de7-957c-5537f08c9ce5\">\n",
              "    <div class=\"colab-df-container\">\n",
              "      <div>\n",
              "<style scoped>\n",
              "    .dataframe tbody tr th:only-of-type {\n",
              "        vertical-align: middle;\n",
              "    }\n",
              "\n",
              "    .dataframe tbody tr th {\n",
              "        vertical-align: top;\n",
              "    }\n",
              "\n",
              "    .dataframe thead th {\n",
              "        text-align: right;\n",
              "    }\n",
              "</style>\n",
              "<table border=\"1\" class=\"dataframe\">\n",
              "  <thead>\n",
              "    <tr style=\"text-align: right;\">\n",
              "      <th></th>\n",
              "      <th>alcohol</th>\n",
              "      <th>malic_acid</th>\n",
              "      <th>ash</th>\n",
              "      <th>alcalinity_of_ash</th>\n",
              "      <th>magnesium</th>\n",
              "      <th>total_phenols</th>\n",
              "      <th>flavanoids</th>\n",
              "      <th>nonflavanoid_phenols</th>\n",
              "      <th>proanthocyanins</th>\n",
              "      <th>color_intensity</th>\n",
              "      <th>hue</th>\n",
              "      <th>od280/od315_of_diluted_wines</th>\n",
              "      <th>proline</th>\n",
              "      <th>class</th>\n",
              "    </tr>\n",
              "  </thead>\n",
              "  <tbody>\n",
              "    <tr>\n",
              "      <th>0</th>\n",
              "      <td>14.23</td>\n",
              "      <td>1.71</td>\n",
              "      <td>2.43</td>\n",
              "      <td>15.6</td>\n",
              "      <td>127.0</td>\n",
              "      <td>2.80</td>\n",
              "      <td>3.06</td>\n",
              "      <td>0.28</td>\n",
              "      <td>2.29</td>\n",
              "      <td>5.64</td>\n",
              "      <td>1.04</td>\n",
              "      <td>3.92</td>\n",
              "      <td>1065.0</td>\n",
              "      <td>0</td>\n",
              "    </tr>\n",
              "    <tr>\n",
              "      <th>1</th>\n",
              "      <td>13.20</td>\n",
              "      <td>1.78</td>\n",
              "      <td>2.14</td>\n",
              "      <td>11.2</td>\n",
              "      <td>100.0</td>\n",
              "      <td>2.65</td>\n",
              "      <td>2.76</td>\n",
              "      <td>0.26</td>\n",
              "      <td>1.28</td>\n",
              "      <td>4.38</td>\n",
              "      <td>1.05</td>\n",
              "      <td>3.40</td>\n",
              "      <td>1050.0</td>\n",
              "      <td>0</td>\n",
              "    </tr>\n",
              "    <tr>\n",
              "      <th>2</th>\n",
              "      <td>13.16</td>\n",
              "      <td>2.36</td>\n",
              "      <td>2.67</td>\n",
              "      <td>18.6</td>\n",
              "      <td>101.0</td>\n",
              "      <td>2.80</td>\n",
              "      <td>3.24</td>\n",
              "      <td>0.30</td>\n",
              "      <td>2.81</td>\n",
              "      <td>5.68</td>\n",
              "      <td>1.03</td>\n",
              "      <td>3.17</td>\n",
              "      <td>1185.0</td>\n",
              "      <td>0</td>\n",
              "    </tr>\n",
              "    <tr>\n",
              "      <th>3</th>\n",
              "      <td>14.37</td>\n",
              "      <td>1.95</td>\n",
              "      <td>2.50</td>\n",
              "      <td>16.8</td>\n",
              "      <td>113.0</td>\n",
              "      <td>3.85</td>\n",
              "      <td>3.49</td>\n",
              "      <td>0.24</td>\n",
              "      <td>2.18</td>\n",
              "      <td>7.80</td>\n",
              "      <td>0.86</td>\n",
              "      <td>3.45</td>\n",
              "      <td>1480.0</td>\n",
              "      <td>0</td>\n",
              "    </tr>\n",
              "    <tr>\n",
              "      <th>4</th>\n",
              "      <td>13.24</td>\n",
              "      <td>2.59</td>\n",
              "      <td>2.87</td>\n",
              "      <td>21.0</td>\n",
              "      <td>118.0</td>\n",
              "      <td>2.80</td>\n",
              "      <td>2.69</td>\n",
              "      <td>0.39</td>\n",
              "      <td>1.82</td>\n",
              "      <td>4.32</td>\n",
              "      <td>1.04</td>\n",
              "      <td>2.93</td>\n",
              "      <td>735.0</td>\n",
              "      <td>0</td>\n",
              "    </tr>\n",
              "  </tbody>\n",
              "</table>\n",
              "</div>\n",
              "      <button class=\"colab-df-convert\" onclick=\"convertToInteractive('df-3ab3e59a-0eb4-4de7-957c-5537f08c9ce5')\"\n",
              "              title=\"Convert this dataframe to an interactive table.\"\n",
              "              style=\"display:none;\">\n",
              "        \n",
              "  <svg xmlns=\"http://www.w3.org/2000/svg\" height=\"24px\"viewBox=\"0 0 24 24\"\n",
              "       width=\"24px\">\n",
              "    <path d=\"M0 0h24v24H0V0z\" fill=\"none\"/>\n",
              "    <path d=\"M18.56 5.44l.94 2.06.94-2.06 2.06-.94-2.06-.94-.94-2.06-.94 2.06-2.06.94zm-11 1L8.5 8.5l.94-2.06 2.06-.94-2.06-.94L8.5 2.5l-.94 2.06-2.06.94zm10 10l.94 2.06.94-2.06 2.06-.94-2.06-.94-.94-2.06-.94 2.06-2.06.94z\"/><path d=\"M17.41 7.96l-1.37-1.37c-.4-.4-.92-.59-1.43-.59-.52 0-1.04.2-1.43.59L10.3 9.45l-7.72 7.72c-.78.78-.78 2.05 0 2.83L4 21.41c.39.39.9.59 1.41.59.51 0 1.02-.2 1.41-.59l7.78-7.78 2.81-2.81c.8-.78.8-2.07 0-2.86zM5.41 20L4 18.59l7.72-7.72 1.47 1.35L5.41 20z\"/>\n",
              "  </svg>\n",
              "      </button>\n",
              "      \n",
              "  <style>\n",
              "    .colab-df-container {\n",
              "      display:flex;\n",
              "      flex-wrap:wrap;\n",
              "      gap: 12px;\n",
              "    }\n",
              "\n",
              "    .colab-df-convert {\n",
              "      background-color: #E8F0FE;\n",
              "      border: none;\n",
              "      border-radius: 50%;\n",
              "      cursor: pointer;\n",
              "      display: none;\n",
              "      fill: #1967D2;\n",
              "      height: 32px;\n",
              "      padding: 0 0 0 0;\n",
              "      width: 32px;\n",
              "    }\n",
              "\n",
              "    .colab-df-convert:hover {\n",
              "      background-color: #E2EBFA;\n",
              "      box-shadow: 0px 1px 2px rgba(60, 64, 67, 0.3), 0px 1px 3px 1px rgba(60, 64, 67, 0.15);\n",
              "      fill: #174EA6;\n",
              "    }\n",
              "\n",
              "    [theme=dark] .colab-df-convert {\n",
              "      background-color: #3B4455;\n",
              "      fill: #D2E3FC;\n",
              "    }\n",
              "\n",
              "    [theme=dark] .colab-df-convert:hover {\n",
              "      background-color: #434B5C;\n",
              "      box-shadow: 0px 1px 3px 1px rgba(0, 0, 0, 0.15);\n",
              "      filter: drop-shadow(0px 1px 2px rgba(0, 0, 0, 0.3));\n",
              "      fill: #FFFFFF;\n",
              "    }\n",
              "  </style>\n",
              "\n",
              "      <script>\n",
              "        const buttonEl =\n",
              "          document.querySelector('#df-3ab3e59a-0eb4-4de7-957c-5537f08c9ce5 button.colab-df-convert');\n",
              "        buttonEl.style.display =\n",
              "          google.colab.kernel.accessAllowed ? 'block' : 'none';\n",
              "\n",
              "        async function convertToInteractive(key) {\n",
              "          const element = document.querySelector('#df-3ab3e59a-0eb4-4de7-957c-5537f08c9ce5');\n",
              "          const dataTable =\n",
              "            await google.colab.kernel.invokeFunction('convertToInteractive',\n",
              "                                                     [key], {});\n",
              "          if (!dataTable) return;\n",
              "\n",
              "          const docLinkHtml = 'Like what you see? Visit the ' +\n",
              "            '<a target=\"_blank\" href=https://colab.research.google.com/notebooks/data_table.ipynb>data table notebook</a>'\n",
              "            + ' to learn more about interactive tables.';\n",
              "          element.innerHTML = '';\n",
              "          dataTable['output_type'] = 'display_data';\n",
              "          await google.colab.output.renderOutput(dataTable, element);\n",
              "          const docLink = document.createElement('div');\n",
              "          docLink.innerHTML = docLinkHtml;\n",
              "          element.appendChild(docLink);\n",
              "        }\n",
              "      </script>\n",
              "    </div>\n",
              "  </div>\n",
              "  "
            ],
            "text/plain": [
              "   alcohol  malic_acid   ash  ...  od280/od315_of_diluted_wines  proline  class\n",
              "0    14.23        1.71  2.43  ...                          3.92   1065.0      0\n",
              "1    13.20        1.78  2.14  ...                          3.40   1050.0      0\n",
              "2    13.16        2.36  2.67  ...                          3.17   1185.0      0\n",
              "3    14.37        1.95  2.50  ...                          3.45   1480.0      0\n",
              "4    13.24        2.59  2.87  ...                          2.93    735.0      0\n",
              "\n",
              "[5 rows x 14 columns]"
            ]
          },
          "metadata": {},
          "execution_count": 41
        }
      ]
    },
    {
      "cell_type": "markdown",
      "source": [
        "Informações da Base de Dados"
      ],
      "metadata": {
        "id": "KG2zFVVkwCkR"
      }
    },
    {
      "cell_type": "code",
      "source": [
        "df_wine.info()"
      ],
      "metadata": {
        "colab": {
          "base_uri": "https://localhost:8080/"
        },
        "id": "dMmercn7wFCl",
        "outputId": "f625a1a2-06f3-4f80-e6e7-8f3f8355f21a"
      },
      "execution_count": 42,
      "outputs": [
        {
          "output_type": "stream",
          "name": "stdout",
          "text": [
            "<class 'pandas.core.frame.DataFrame'>\n",
            "RangeIndex: 178 entries, 0 to 177\n",
            "Data columns (total 14 columns):\n",
            " #   Column                        Non-Null Count  Dtype  \n",
            "---  ------                        --------------  -----  \n",
            " 0   alcohol                       178 non-null    float64\n",
            " 1   malic_acid                    178 non-null    float64\n",
            " 2   ash                           178 non-null    float64\n",
            " 3   alcalinity_of_ash             178 non-null    float64\n",
            " 4   magnesium                     178 non-null    float64\n",
            " 5   total_phenols                 178 non-null    float64\n",
            " 6   flavanoids                    178 non-null    float64\n",
            " 7   nonflavanoid_phenols          178 non-null    float64\n",
            " 8   proanthocyanins               178 non-null    float64\n",
            " 9   color_intensity               178 non-null    float64\n",
            " 10  hue                           178 non-null    float64\n",
            " 11  od280/od315_of_diluted_wines  178 non-null    float64\n",
            " 12  proline                       178 non-null    float64\n",
            " 13  class                         178 non-null    int64  \n",
            "dtypes: float64(13), int64(1)\n",
            "memory usage: 19.6 KB\n"
          ]
        }
      ]
    },
    {
      "cell_type": "code",
      "source": [
        "df_wine['class'].value_counts()"
      ],
      "metadata": {
        "colab": {
          "base_uri": "https://localhost:8080/"
        },
        "id": "E-1i8hdNwPLh",
        "outputId": "d0cee32e-3d15-42c0-d86e-0f0619bf3ef9"
      },
      "execution_count": 43,
      "outputs": [
        {
          "output_type": "execute_result",
          "data": {
            "text/plain": [
              "1    71\n",
              "0    59\n",
              "2    48\n",
              "Name: class, dtype: int64"
            ]
          },
          "metadata": {},
          "execution_count": 43
        }
      ]
    },
    {
      "cell_type": "markdown",
      "source": [
        "Quando usar o Algoritmo KNN\n",
        "\n",
        "- Pode ser utilizado para tarefas de Classificação e Regressão.\n",
        "- Simplicidade e Fácil interpretação.\n",
        "- Arquitetura Lazy (\"treinamento\" rápido).\n",
        "- Flexibilidade de Métodos de Distância.\n",
        "- Rápido tempo de predição.\n",
        "-Nenhuma suposição quanto a distribuição dos dados."
      ],
      "metadata": {
        "id": "J5e4dzzGwYQC"
      }
    },
    {
      "cell_type": "markdown",
      "source": [
        "Como funciona o KNN ?\n",
        "\n",
        "- Aplicando o KNN na Base de Dados Wine Separando os dados de treino e teste."
      ],
      "metadata": {
        "id": "YYFEREIJwkxa"
      }
    },
    {
      "cell_type": "code",
      "source": [
        "from sklearn.model_selection import train_test_split"
      ],
      "metadata": {
        "id": "NgzJwbROwn5z"
      },
      "execution_count": 44,
      "outputs": []
    },
    {
      "cell_type": "code",
      "source": [
        "X_train, X_test, y_train, y_test = train_test_split(df_wine.drop('class',axis=1), df_wine['class'], test_size=0.3)"
      ],
      "metadata": {
        "id": "mjVWjIKIwtWt"
      },
      "execution_count": 45,
      "outputs": []
    },
    {
      "cell_type": "markdown",
      "source": [
        "Instanciando o Classificador."
      ],
      "metadata": {
        "id": "RNkveYolw6Dw"
      }
    },
    {
      "cell_type": "code",
      "source": [
        "from sklearn.neighbors import KNeighborsClassifier"
      ],
      "metadata": {
        "id": "trI4j6lew8EW"
      },
      "execution_count": 46,
      "outputs": []
    },
    {
      "cell_type": "markdown",
      "source": [
        "Alguns parametros interessantes:\n",
        "\n",
        "- n_neighbors: Número de vizinhos (Default=5).\n",
        "- weights: Peso de amostras vizinhas (Default=uniform).\n",
        "- metric: Métrica utilizada para o cálculo de distância (Default=minkowski).\n",
        "p: Parametro de poder para a métrica (Default=2).\n",
        "- n_jobs: Número de jobs paralelos para executar no momento da busca de vizinhos. (Default=1) "
      ],
      "metadata": {
        "id": "rLrjdJ7-xChB"
      }
    },
    {
      "cell_type": "code",
      "source": [
        "knn = KNeighborsClassifier(n_neighbors=3)"
      ],
      "metadata": {
        "id": "YzXLMiYzxbwh"
      },
      "execution_count": 47,
      "outputs": []
    },
    {
      "cell_type": "markdown",
      "source": [
        "Treinando o algoritmo com os dados de treinamento."
      ],
      "metadata": {
        "id": "N6LlPz1dxfVB"
      }
    },
    {
      "cell_type": "code",
      "source": [
        "knn.fit(X_train, y_train)"
      ],
      "metadata": {
        "colab": {
          "base_uri": "https://localhost:8080/"
        },
        "id": "iR2TC6RGxt-c",
        "outputId": "cd553276-8d34-400f-c63c-23fc4aaad962"
      },
      "execution_count": 48,
      "outputs": [
        {
          "output_type": "execute_result",
          "data": {
            "text/plain": [
              "KNeighborsClassifier(n_neighbors=3)"
            ]
          },
          "metadata": {},
          "execution_count": 48
        }
      ]
    },
    {
      "cell_type": "markdown",
      "source": [
        "Executando o KNN com o conjunto de teste"
      ],
      "metadata": {
        "id": "fZK-f4tvxy6M"
      }
    },
    {
      "cell_type": "code",
      "source": [
        "resultado = knn.predict(X_test)\n",
        "resultado"
      ],
      "metadata": {
        "colab": {
          "base_uri": "https://localhost:8080/"
        },
        "id": "kHNqq_HFx0en",
        "outputId": "b099268f-43d1-48b6-f660-3a8e8ce06fee"
      },
      "execution_count": 49,
      "outputs": [
        {
          "output_type": "execute_result",
          "data": {
            "text/plain": [
              "array([1, 1, 1, 1, 0, 0, 2, 2, 0, 0, 1, 1, 0, 2, 0, 0, 0, 0, 2, 0, 1, 1,\n",
              "       0, 1, 0, 1, 0, 2, 1, 0, 0, 2, 2, 0, 1, 2, 0, 0, 0, 1, 1, 0, 1, 2,\n",
              "       0, 0, 2, 1, 1, 0, 1, 0, 1, 0])"
            ]
          },
          "metadata": {},
          "execution_count": 49
        }
      ]
    },
    {
      "cell_type": "markdown",
      "source": [
        "Metricas de classificação"
      ],
      "metadata": {
        "id": "aKWx449syFI0"
      }
    },
    {
      "cell_type": "code",
      "source": [
        "from sklearn import metrics\n",
        "print(metrics.classification_report(y_test,resultado,target_names=wine.target_names))"
      ],
      "metadata": {
        "colab": {
          "base_uri": "https://localhost:8080/"
        },
        "id": "WbyP_5FOyFv1",
        "outputId": "4a73e444-7b1a-4474-f587-7b912985deff"
      },
      "execution_count": 50,
      "outputs": [
        {
          "output_type": "stream",
          "name": "stdout",
          "text": [
            "              precision    recall  f1-score   support\n",
            "\n",
            "     class_0       0.76      0.95      0.84        20\n",
            "     class_1       0.79      0.75      0.77        20\n",
            "     class_2       0.60      0.43      0.50        14\n",
            "\n",
            "    accuracy                           0.74        54\n",
            "   macro avg       0.72      0.71      0.70        54\n",
            "weighted avg       0.73      0.74      0.73        54\n",
            "\n"
          ]
        }
      ]
    },
    {
      "cell_type": "markdown",
      "source": [
        "Otimizando o Parametro K utilizando GridSearch"
      ],
      "metadata": {
        "id": "b_SykI2gyXg5"
      }
    },
    {
      "cell_type": "code",
      "source": [
        "from sklearn.model_selection import GridSearchCV"
      ],
      "metadata": {
        "id": "cHsdp-2JyKQg"
      },
      "execution_count": 52,
      "outputs": []
    },
    {
      "cell_type": "markdown",
      "source": [
        "Definindo a lista de valores para os parametros"
      ],
      "metadata": {
        "id": "veg1GARpybI3"
      }
    },
    {
      "cell_type": "code",
      "source": [
        "k_list = list(range(1,31))\n",
        "weight_list = ['uniform','distance']\n",
        "p_list = [1,2]"
      ],
      "metadata": {
        "id": "RhsgNV9NygeC"
      },
      "execution_count": 53,
      "outputs": []
    },
    {
      "cell_type": "code",
      "source": [
        "parametros = dict(n_neighbors=k_list)"
      ],
      "metadata": {
        "id": "IMn1ZrOYyt7J"
      },
      "execution_count": 54,
      "outputs": []
    },
    {
      "cell_type": "code",
      "source": [
        "parametros"
      ],
      "metadata": {
        "colab": {
          "base_uri": "https://localhost:8080/"
        },
        "id": "3xQ4RYx6yvE-",
        "outputId": "a55e6687-92d4-4f19-eb6a-901f897955da"
      },
      "execution_count": 55,
      "outputs": [
        {
          "output_type": "execute_result",
          "data": {
            "text/plain": [
              "{'n_neighbors': [1,\n",
              "  2,\n",
              "  3,\n",
              "  4,\n",
              "  5,\n",
              "  6,\n",
              "  7,\n",
              "  8,\n",
              "  9,\n",
              "  10,\n",
              "  11,\n",
              "  12,\n",
              "  13,\n",
              "  14,\n",
              "  15,\n",
              "  16,\n",
              "  17,\n",
              "  18,\n",
              "  19,\n",
              "  20,\n",
              "  21,\n",
              "  22,\n",
              "  23,\n",
              "  24,\n",
              "  25,\n",
              "  26,\n",
              "  27,\n",
              "  28,\n",
              "  29,\n",
              "  30]}"
            ]
          },
          "metadata": {},
          "execution_count": 55
        }
      ]
    },
    {
      "cell_type": "markdown",
      "source": [
        "Instânciando o objeto GridSearch"
      ],
      "metadata": {
        "id": "YzTvzMniy2PT"
      }
    },
    {
      "cell_type": "code",
      "source": [
        "grid = GridSearchCV(knn, parametros, cv=5, scoring='accuracy')"
      ],
      "metadata": {
        "id": "5lXReVMvy2wt"
      },
      "execution_count": 56,
      "outputs": []
    },
    {
      "cell_type": "markdown",
      "source": [
        "Treinando o objeto"
      ],
      "metadata": {
        "id": "7PJ1rX0VzSVn"
      }
    },
    {
      "cell_type": "code",
      "source": [
        "grid.fit(df_wine.drop('class',axis=1),df_wine['class'])"
      ],
      "metadata": {
        "colab": {
          "base_uri": "https://localhost:8080/"
        },
        "id": "o1McSTV0zTbA",
        "outputId": "be4deccf-7530-48af-fc8d-b721e940ce3c"
      },
      "execution_count": 57,
      "outputs": [
        {
          "output_type": "execute_result",
          "data": {
            "text/plain": [
              "GridSearchCV(cv=5, estimator=KNeighborsClassifier(n_neighbors=3),\n",
              "             param_grid={'n_neighbors': [1, 2, 3, 4, 5, 6, 7, 8, 9, 10, 11, 12,\n",
              "                                         13, 14, 15, 16, 17, 18, 19, 20, 21, 22,\n",
              "                                         23, 24, 25, 26, 27, 28, 29, 30]},\n",
              "             scoring='accuracy')"
            ]
          },
          "metadata": {},
          "execution_count": 57
        }
      ]
    },
    {
      "cell_type": "markdown",
      "source": [
        "Verificando os valores de scores"
      ],
      "metadata": {
        "id": "-4weS4iBzeHz"
      }
    },
    {
      "cell_type": "code",
      "source": [
        "grid.cv_results_"
      ],
      "metadata": {
        "colab": {
          "base_uri": "https://localhost:8080/"
        },
        "id": "gzh8fiyUze2k",
        "outputId": "8dc7c9af-e808-42d9-be6e-c94564b238a8"
      },
      "execution_count": 58,
      "outputs": [
        {
          "output_type": "execute_result",
          "data": {
            "text/plain": [
              "{'mean_fit_time': array([0.00345426, 0.00260344, 0.0025671 , 0.00257173, 0.00252137,\n",
              "        0.00256338, 0.00261335, 0.00255857, 0.00269608, 0.00250921,\n",
              "        0.00260653, 0.00251994, 0.00261617, 0.00257788, 0.00411358,\n",
              "        0.00313807, 0.00255346, 0.00246339, 0.00252385, 0.00252361,\n",
              "        0.00280523, 0.00260687, 0.00249667, 0.00281997, 0.00255494,\n",
              "        0.00340433, 0.0025146 , 0.00255294, 0.00252924, 0.00249972]),\n",
              " 'mean_score_time': array([0.00405788, 0.00408525, 0.00382075, 0.00394073, 0.00380478,\n",
              "        0.00386329, 0.00385451, 0.00383415, 0.00399055, 0.00391197,\n",
              "        0.00389419, 0.00395713, 0.00394793, 0.0039628 , 0.00576744,\n",
              "        0.00412011, 0.00380278, 0.00375452, 0.00410867, 0.00371213,\n",
              "        0.00414519, 0.00385952, 0.00368247, 0.00424433, 0.00375233,\n",
              "        0.00505586, 0.0037724 , 0.00375347, 0.00382705, 0.00373073]),\n",
              " 'mean_test_score': array([0.72507937, 0.66365079, 0.70285714, 0.68015873, 0.69126984,\n",
              "        0.69142857, 0.68063492, 0.68015873, 0.70253968, 0.69111111,\n",
              "        0.67984127, 0.69142857, 0.70793651, 0.70285714, 0.71380952,\n",
              "        0.69730159, 0.69714286, 0.70285714, 0.70285714, 0.70825397,\n",
              "        0.71952381, 0.70253968, 0.70253968, 0.69698413, 0.7084127 ,\n",
              "        0.69698413, 0.70825397, 0.71396825, 0.71968254, 0.71968254]),\n",
              " 'param_n_neighbors': masked_array(data=[1, 2, 3, 4, 5, 6, 7, 8, 9, 10, 11, 12, 13, 14, 15, 16,\n",
              "                    17, 18, 19, 20, 21, 22, 23, 24, 25, 26, 27, 28, 29, 30],\n",
              "              mask=[False, False, False, False, False, False, False, False,\n",
              "                    False, False, False, False, False, False, False, False,\n",
              "                    False, False, False, False, False, False, False, False,\n",
              "                    False, False, False, False, False, False],\n",
              "        fill_value='?',\n",
              "             dtype=object),\n",
              " 'params': [{'n_neighbors': 1},\n",
              "  {'n_neighbors': 2},\n",
              "  {'n_neighbors': 3},\n",
              "  {'n_neighbors': 4},\n",
              "  {'n_neighbors': 5},\n",
              "  {'n_neighbors': 6},\n",
              "  {'n_neighbors': 7},\n",
              "  {'n_neighbors': 8},\n",
              "  {'n_neighbors': 9},\n",
              "  {'n_neighbors': 10},\n",
              "  {'n_neighbors': 11},\n",
              "  {'n_neighbors': 12},\n",
              "  {'n_neighbors': 13},\n",
              "  {'n_neighbors': 14},\n",
              "  {'n_neighbors': 15},\n",
              "  {'n_neighbors': 16},\n",
              "  {'n_neighbors': 17},\n",
              "  {'n_neighbors': 18},\n",
              "  {'n_neighbors': 19},\n",
              "  {'n_neighbors': 20},\n",
              "  {'n_neighbors': 21},\n",
              "  {'n_neighbors': 22},\n",
              "  {'n_neighbors': 23},\n",
              "  {'n_neighbors': 24},\n",
              "  {'n_neighbors': 25},\n",
              "  {'n_neighbors': 26},\n",
              "  {'n_neighbors': 27},\n",
              "  {'n_neighbors': 28},\n",
              "  {'n_neighbors': 29},\n",
              "  {'n_neighbors': 30}],\n",
              " 'rank_test_score': array([ 1, 30, 11, 27, 24, 23, 26, 27, 15, 25, 29, 22, 10, 11,  6, 18, 19,\n",
              "        11, 11,  8,  4, 15, 15, 20,  7, 20,  8,  5,  2,  2], dtype=int32),\n",
              " 'split0_test_score': array([0.80555556, 0.61111111, 0.63888889, 0.63888889, 0.72222222,\n",
              "        0.66666667, 0.66666667, 0.69444444, 0.66666667, 0.69444444,\n",
              "        0.69444444, 0.66666667, 0.75      , 0.69444444, 0.77777778,\n",
              "        0.66666667, 0.69444444, 0.63888889, 0.72222222, 0.72222222,\n",
              "        0.77777778, 0.75      , 0.75      , 0.72222222, 0.75      ,\n",
              "        0.72222222, 0.72222222, 0.72222222, 0.72222222, 0.72222222]),\n",
              " 'split1_test_score': array([0.63888889, 0.61111111, 0.69444444, 0.69444444, 0.66666667,\n",
              "        0.63888889, 0.61111111, 0.63888889, 0.69444444, 0.69444444,\n",
              "        0.66666667, 0.66666667, 0.66666667, 0.63888889, 0.63888889,\n",
              "        0.63888889, 0.63888889, 0.69444444, 0.66666667, 0.66666667,\n",
              "        0.66666667, 0.66666667, 0.66666667, 0.66666667, 0.63888889,\n",
              "        0.66666667, 0.69444444, 0.72222222, 0.72222222, 0.72222222]),\n",
              " 'split2_test_score': array([0.66666667, 0.63888889, 0.66666667, 0.63888889, 0.63888889,\n",
              "        0.69444444, 0.61111111, 0.63888889, 0.69444444, 0.66666667,\n",
              "        0.66666667, 0.66666667, 0.69444444, 0.66666667, 0.66666667,\n",
              "        0.66666667, 0.66666667, 0.66666667, 0.61111111, 0.66666667,\n",
              "        0.63888889, 0.63888889, 0.63888889, 0.63888889, 0.63888889,\n",
              "        0.63888889, 0.63888889, 0.61111111, 0.61111111, 0.61111111]),\n",
              " 'split3_test_score': array([0.68571429, 0.65714286, 0.65714286, 0.65714286, 0.65714286,\n",
              "        0.68571429, 0.74285714, 0.65714286, 0.68571429, 0.65714286,\n",
              "        0.62857143, 0.71428571, 0.68571429, 0.74285714, 0.68571429,\n",
              "        0.71428571, 0.71428571, 0.71428571, 0.71428571, 0.71428571,\n",
              "        0.71428571, 0.71428571, 0.71428571, 0.71428571, 0.71428571,\n",
              "        0.71428571, 0.68571429, 0.74285714, 0.74285714, 0.74285714]),\n",
              " 'split4_test_score': array([0.82857143, 0.8       , 0.85714286, 0.77142857, 0.77142857,\n",
              "        0.77142857, 0.77142857, 0.77142857, 0.77142857, 0.74285714,\n",
              "        0.74285714, 0.74285714, 0.74285714, 0.77142857, 0.8       ,\n",
              "        0.8       , 0.77142857, 0.8       , 0.8       , 0.77142857,\n",
              "        0.8       , 0.74285714, 0.74285714, 0.74285714, 0.8       ,\n",
              "        0.74285714, 0.8       , 0.77142857, 0.8       , 0.8       ]),\n",
              " 'std_fit_time': array([1.52757592e-03, 8.35232518e-05, 6.65479856e-05, 3.95793799e-05,\n",
              "        4.57924080e-05, 8.75610661e-05, 1.37417272e-04, 2.32756130e-05,\n",
              "        3.54966286e-04, 2.31296006e-05, 1.74619082e-04, 2.26643666e-05,\n",
              "        1.31791528e-04, 5.18926349e-05, 1.47697596e-03, 7.73593939e-04,\n",
              "        1.60324467e-04, 4.83455974e-05, 2.01971717e-04, 4.64083831e-05,\n",
              "        4.26224595e-04, 2.32483765e-04, 3.09663058e-05, 5.03226620e-04,\n",
              "        1.13516431e-04, 8.18749637e-04, 3.65566516e-05, 9.78020096e-05,\n",
              "        2.54085757e-05, 1.09699495e-05]),\n",
              " 'std_score_time': array([3.51933702e-04, 3.77069830e-04, 3.71708558e-05, 1.67190532e-04,\n",
              "        3.75639348e-05, 8.91661771e-05, 2.41987224e-05, 3.92575141e-05,\n",
              "        1.54963610e-04, 1.17456714e-04, 9.23949484e-05, 1.30739810e-04,\n",
              "        1.28941864e-04, 6.25312257e-05, 1.44875845e-03, 7.84491052e-04,\n",
              "        1.69382667e-04, 2.68797534e-04, 8.94590976e-04, 4.38844094e-05,\n",
              "        6.52299785e-04, 3.02495436e-04, 3.25734579e-05, 5.04432573e-04,\n",
              "        1.52487021e-04, 1.12516099e-03, 1.15844209e-04, 4.84484856e-05,\n",
              "        9.07757442e-05, 3.07932709e-05]),\n",
              " 'std_test_score': array([0.07691226, 0.07038103, 0.07920396, 0.04994076, 0.04877951,\n",
              "        0.04430648, 0.0662983 , 0.04994076, 0.03590741, 0.02983705,\n",
              "        0.03784175, 0.03164428, 0.03276538, 0.04852732, 0.06347539,\n",
              "        0.05678814, 0.04503743, 0.05484489, 0.06272071, 0.03919574,\n",
              "        0.06195684, 0.04325331, 0.04325331, 0.03830103, 0.06295927,\n",
              "        0.03830103, 0.0531464 , 0.05450157, 0.06130026, 0.06130026])}"
            ]
          },
          "metadata": {},
          "execution_count": 58
        }
      ]
    },
    {
      "cell_type": "code",
      "source": [
        "scores = grid.cv_results_.get('mean_test_score')"
      ],
      "metadata": {
        "id": "NCX743YmzlLO"
      },
      "execution_count": 59,
      "outputs": []
    },
    {
      "cell_type": "code",
      "source": [
        "k_rank = grid.cv_results_.get('rank_test_score')"
      ],
      "metadata": {
        "id": "froIZhPQzzjV"
      },
      "execution_count": 60,
      "outputs": []
    },
    {
      "cell_type": "code",
      "source": [
        "print(\"Melhores parametros {} com o valor de acurácia {} \".format(grid.best_params_,grid.best_score_))"
      ],
      "metadata": {
        "colab": {
          "base_uri": "https://localhost:8080/"
        },
        "id": "ofjnco-kz20t",
        "outputId": "9a902e15-1d2a-4e68-ca7b-2d9ccd3faeed"
      },
      "execution_count": 61,
      "outputs": [
        {
          "output_type": "stream",
          "name": "stdout",
          "text": [
            "Melhores parametros {'n_neighbors': 1} com o valor de acurácia 0.7250793650793651 \n"
          ]
        }
      ]
    },
    {
      "cell_type": "code",
      "source": [
        "plt.figure(figsize=(10,6))\n",
        "plt.plot(k_list,scores,color='red',linestyle='dashed',marker='o')"
      ],
      "metadata": {
        "colab": {
          "base_uri": "https://localhost:8080/",
          "height": 392
        },
        "id": "ZJaiFJoyKFVF",
        "outputId": "64aa2185-c588-4a19-fd08-a27597eb0ab6"
      },
      "execution_count": 64,
      "outputs": [
        {
          "output_type": "execute_result",
          "data": {
            "text/plain": [
              "[<matplotlib.lines.Line2D at 0x7fc4198d5610>]"
            ]
          },
          "metadata": {},
          "execution_count": 64
        },
        {
          "output_type": "display_data",
          "data": {
            "image/png": "[encoded data removed]",
            "text/plain": [
              "<Figure size 720x432 with 1 Axes>"
            ]
          },
          "metadata": {
            "needs_background": "light"
          }
        }
      ]
    },
    {
      "cell_type": "markdown",
      "source": [
        "Visualizando as fronteiras de complexidade\n",
        "\n",
        "- Selecionando os dados"
      ],
      "metadata": {
        "id": "tuEg3bTSz5Zk"
      }
    },
    {
      "cell_type": "code",
      "source": [
        "X = wine.data[:,[0,2]]\n",
        "y = wine.target"
      ],
      "metadata": {
        "id": "MK5Fku_v0VAb"
      },
      "execution_count": 62,
      "outputs": []
    },
    {
      "cell_type": "markdown",
      "source": [
        "Função para plot de fronteiras de acordo com o número de vizinhos"
      ],
      "metadata": {
        "id": "agpaZlt50zRD"
      }
    },
    {
      "cell_type": "code",
      "source": [
        "def plot_fronteiras(n_vizinhos):\n",
        "    knn = KNeighborsClassifier(n_neighbors=n_vizinhos)\n",
        "    knn.fit(X, y)\n",
        "    plt.figure(figsize=(8,5))\n",
        "    plot_decision_regions(X,y,clf=knn,legend=2)\n",
        "    plt.xlabel('alcohol')\n",
        "    plt.ylabel('malic_acid')\n",
        "    plt.title('Fronteiras de Complexidade - KNN')"
      ],
      "metadata": {
        "id": "qzp7ccZY01N3"
      },
      "execution_count": 63,
      "outputs": []
    },
    {
      "cell_type": "markdown",
      "source": [
        "Valor de K = 1"
      ],
      "metadata": {
        "id": "a71Tw_Hk09Qc"
      }
    },
    {
      "cell_type": "code",
      "source": [
        "plot_fronteiras(1)"
      ],
      "metadata": {
        "colab": {
          "base_uri": "https://localhost:8080/",
          "height": 406
        },
        "id": "d_89HEau1Dos",
        "outputId": "91509b74-2ded-4949-ad73-d6a0746fb95d"
      },
      "execution_count": 33,
      "outputs": [
        {
          "output_type": "stream",
          "name": "stderr",
          "text": [
            "/usr/local/lib/python3.7/dist-packages/mlxtend/plotting/decision_regions.py:244: MatplotlibDeprecationWarning: Passing unsupported keyword arguments to axis() will raise a TypeError in 3.3.\n",
            "  ax.axis(xmin=xx.min(), xmax=xx.max(), y_min=yy.min(), y_max=yy.max())\n"
          ]
        },
        {
          "output_type": "display_data",
          "data": {
            "image/png": "[encoded data removed]",
            "text/plain": [
              "<Figure size 576x360 with 1 Axes>"
            ]
          },
          "metadata": {
            "needs_background": "light"
          }
        }
      ]
    },
    {
      "cell_type": "markdown",
      "source": [
        "Valor de K = 3"
      ],
      "metadata": {
        "id": "zlrt9lpC13qQ"
      }
    },
    {
      "cell_type": "code",
      "source": [
        "plot_fronteiras(3)"
      ],
      "metadata": {
        "colab": {
          "base_uri": "https://localhost:8080/",
          "height": 406
        },
        "id": "L8BtVkPV14ex",
        "outputId": "a80b9d47-86d4-4f3a-be9d-30e5505a5cc0"
      },
      "execution_count": 34,
      "outputs": [
        {
          "output_type": "stream",
          "name": "stderr",
          "text": [
            "/usr/local/lib/python3.7/dist-packages/mlxtend/plotting/decision_regions.py:244: MatplotlibDeprecationWarning: Passing unsupported keyword arguments to axis() will raise a TypeError in 3.3.\n",
            "  ax.axis(xmin=xx.min(), xmax=xx.max(), y_min=yy.min(), y_max=yy.max())\n"
          ]
        },
        {
          "output_type": "display_data",
          "data": {
            "image/png": "[encoded data removed]",
            "text/plain": [
              "<Figure size 576x360 with 1 Axes>"
            ]
          },
          "metadata": {
            "needs_background": "light"
          }
        }
      ]
    },
    {
      "cell_type": "code",
      "source": [
        "plot_fronteiras(7)"
      ],
      "metadata": {
        "colab": {
          "base_uri": "https://localhost:8080/",
          "height": 406
        },
        "id": "OhooSP8yKIy9",
        "outputId": "01e54ac7-ceab-416d-ec65-50d57ad4ab92"
      },
      "execution_count": 65,
      "outputs": [
        {
          "output_type": "stream",
          "name": "stderr",
          "text": [
            "/usr/local/lib/python3.7/dist-packages/mlxtend/plotting/decision_regions.py:244: MatplotlibDeprecationWarning: Passing unsupported keyword arguments to axis() will raise a TypeError in 3.3.\n",
            "  ax.axis(xmin=xx.min(), xmax=xx.max(), y_min=yy.min(), y_max=yy.max())\n"
          ]
        },
        {
          "output_type": "display_data",
          "data": {
            "image/png": "[encoded data removed]",
            "text/plain": [
              "<Figure size 576x360 with 1 Axes>"
            ]
          },
          "metadata": {
            "needs_background": "light"
          }
        }
      ]
    },
    {
      "cell_type": "markdown",
      "source": [
        "Valor de K = 20"
      ],
      "metadata": {
        "id": "s2pHzeMNUsHd"
      }
    },
    {
      "cell_type": "code",
      "source": [
        "plot_fronteiras(20)"
      ],
      "metadata": {
        "colab": {
          "base_uri": "https://localhost:8080/",
          "height": 406
        },
        "id": "haGh4hHzUvPg",
        "outputId": "d0047c37-fb83-437a-8aea-a35379887ac3"
      },
      "execution_count": 67,
      "outputs": [
        {
          "output_type": "stream",
          "name": "stderr",
          "text": [
            "/usr/local/lib/python3.7/dist-packages/mlxtend/plotting/decision_regions.py:244: MatplotlibDeprecationWarning: Passing unsupported keyword arguments to axis() will raise a TypeError in 3.3.\n",
            "  ax.axis(xmin=xx.min(), xmax=xx.max(), y_min=yy.min(), y_max=yy.max())\n"
          ]
        },
        {
          "output_type": "display_data",
          "data": {
            "image/png": "[encoded data removed]",
            "text/plain": [
              "<Figure size 576x360 with 1 Axes>"
            ]
          },
          "metadata": {
            "needs_background": "light"
          }
        }
      ]
    },
    {
      "cell_type": "markdown",
      "source": [
        "Valor de K = 30"
      ],
      "metadata": {
        "id": "J5VqXUwhUf6-"
      }
    },
    {
      "cell_type": "code",
      "source": [
        "plot_fronteiras(30)"
      ],
      "metadata": {
        "colab": {
          "base_uri": "https://localhost:8080/",
          "height": 406
        },
        "id": "gd8Q0cKRUfFm",
        "outputId": "311dd37d-34bd-4030-a9e0-25580eb1d166"
      },
      "execution_count": 66,
      "outputs": [
        {
          "output_type": "stream",
          "name": "stderr",
          "text": [
            "/usr/local/lib/python3.7/dist-packages/mlxtend/plotting/decision_regions.py:244: MatplotlibDeprecationWarning: Passing unsupported keyword arguments to axis() will raise a TypeError in 3.3.\n",
            "  ax.axis(xmin=xx.min(), xmax=xx.max(), y_min=yy.min(), y_max=yy.max())\n"
          ]
        },
        {
          "output_type": "display_data",
          "data": {
            "image/png": "[encoded data removed]",
            "text/plain": [
              "<Figure size 576x360 with 1 Axes>"
            ]
          },
          "metadata": {
            "needs_background": "light"
          }
        }
      ]
    }
  ]
}